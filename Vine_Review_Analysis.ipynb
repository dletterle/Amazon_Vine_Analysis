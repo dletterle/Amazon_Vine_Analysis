{
  "nbformat": 4,
  "nbformat_minor": 0,
  "metadata": {
    "colab": {
      "name": "Vine_Review_Analysis.ipynb",
      "provenance": [],
      "authorship_tag": "ABX9TyPRKWGzd3/+WvNfTO7PTizX",
      "include_colab_link": true
    },
    "kernelspec": {
      "name": "python3",
      "display_name": "Python 3"
    },
    "language_info": {
      "name": "python"
    }
  },
  "cells": [
    {
      "cell_type": "markdown",
      "metadata": {
        "id": "view-in-github",
        "colab_type": "text"
      },
      "source": [
        "<a href=\"https://colab.research.google.com/github/dletterle/Amazon_Vine_Analysis/blob/main/Vine_Review_Analysis.ipynb\" target=\"_parent\"><img src=\"https://colab.research.google.com/assets/colab-badge.svg\" alt=\"Open In Colab\"/></a>"
      ]
    },
    {
      "cell_type": "code",
      "execution_count": null,
      "metadata": {
        "id": "Rf4BODklv4UO"
      },
      "outputs": [],
      "source": [
        "import os\n",
        "# Find the latest version of spark 3.0 from http://www.apache.org/dist/spark/ and enter as the spark version\n",
        "# For example:\n",
        "# spark_version = 'spark-3.0.3'\n",
        "spark_version = 'spark-3.0.3'\n",
        "os.environ['SPARK_VERSION']=spark_version\n",
        "\n",
        "# Install Spark and Java\n",
        "!apt-get update\n",
        "!apt-get install openjdk-11-jdk-headless -qq > /dev/null\n",
        "!wget -q http://www.apache.org/dist/spark/$SPARK_VERSION/$SPARK_VERSION-bin-hadoop2.7.tgz\n",
        "!tar xf $SPARK_VERSION-bin-hadoop2.7.tgz\n",
        "!pip install -q findspark\n",
        "\n",
        "# Set Environment Variables\n",
        "import os\n",
        "os.environ[\"JAVA_HOME\"] = \"/usr/lib/jvm/java-11-openjdk-amd64\"\n",
        "os.environ[\"SPARK_HOME\"] = f\"/content/{spark_version}-bin-hadoop2.7\"\n",
        "\n",
        "# Start a SparkSession\n",
        "import findspark\n",
        "findspark.init()"
      ]
    },
    {
      "cell_type": "code",
      "source": [
        "# Download the Postgres driver that will allow Spark to interact with Postgres.\n",
        "!wget https://jdbc.postgresql.org/download/postgresql-42.2.16.jar"
      ],
      "metadata": {
        "id": "9xEYbRBrv-HK"
      },
      "execution_count": null,
      "outputs": []
    },
    {
      "cell_type": "code",
      "source": [
        "from pyspark.sql import SparkSession\n",
        "spark = SparkSession.builder.appName(\"M16-Amazon-Challenge\").config(\"spark.driver.extraClassPath\",\"/content/postgresql-42.2.16.jar\").getOrCreate()"
      ],
      "metadata": {
        "id": "3U2eBilGwDKb"
      },
      "execution_count": null,
      "outputs": []
    },
    {
      "cell_type": "code",
      "source": [
        "from pyspark import SparkFiles\n",
        "url = \"https://s3.amazonaws.com/amazon-reviews-pds/tsv/amazon_reviews_us_Video_Games_v1_00.tsv.gz\"\n",
        "spark.sparkContext.addFile(url)\n",
        "df = spark.read.option(\"encoding\", \"UTF-8\").csv(SparkFiles.get(\"amazon_reviews_us_Video_Games_v1_00.tsv.gz\"), sep=\"\\t\", header=True, inferSchema=True)\n",
        "df.show()"
      ],
      "metadata": {
        "id": "vUd8Ost6wE0z"
      },
      "execution_count": null,
      "outputs": []
    },
    {
      "cell_type": "code",
      "source": [
        "drop_na_df = df.dropna()\n",
        "drop_na_df.show("
      ],
      "metadata": {
        "id": "gvGFJkiswHMo"
      },
      "execution_count": null,
      "outputs": []
    },
    {
      "cell_type": "code",
      "source": [
        "#recreate the vine_df from first part of challenge\n",
        "vine_df = drop_na_df.select([\"review_id\",\"star_rating\",\"helpful_votes\",\"total_votes\",\"vine\",\"verified_purchase\"])\n",
        "#create df with total votes greater than or equal to 20\n",
        "filtered_vine_df=vine_df.filter(\"total_votes>=20\")\n",
        "filtered_vine_df.show()"
      ],
      "metadata": {
        "id": "JxKMExtlwJhk"
      },
      "execution_count": null,
      "outputs": []
    },
    {
      "cell_type": "code",
      "source": [
        "helpful_reviews_df = filtered_vine_df.filter(\"(helpful_votes/total_votes)>=0.5\")\n",
        "helpful_reviews_df.show()"
      ],
      "metadata": {
        "id": "5uCaI-FtwOaU"
      },
      "execution_count": null,
      "outputs": []
    },
    {
      "cell_type": "code",
      "source": [
        "vine_helpful_reviews_df=helpful_reviews_df.filter(\"vine=='Y'\")\n",
        "vine_helpful_reviews_df.show()"
      ],
      "metadata": {
        "id": "dQIdpQ8hwRgU"
      },
      "execution_count": null,
      "outputs": []
    },
    {
      "cell_type": "code",
      "source": [
        "not_vine_helpful_reviews_df=helpful_reviews_df.filter(\"vine=='N'\")\n",
        "not_vine_helpful_reviews_df.show()"
      ],
      "metadata": {
        "id": "9-s32o8ewT0x"
      },
      "execution_count": null,
      "outputs": []
    },
    {
      "cell_type": "code",
      "source": [
        "total_num_helpful_reviews = helpful_reviews_df.count()\n",
        "total_num_helpful_reviews"
      ],
      "metadata": {
        "id": "Gh6q9jg7wX6C"
      },
      "execution_count": null,
      "outputs": []
    },
    {
      "cell_type": "code",
      "source": [
        "total_num_helpful_vine_reviews = vine_helpful_reviews_df.count()\n",
        "total_num_helpful_vine_reviews"
      ],
      "metadata": {
        "id": "5a3OmMnKwYnd"
      },
      "execution_count": null,
      "outputs": []
    },
    {
      "cell_type": "code",
      "source": [
        "total_num_helpful_not_vine_reviews = not_vine_helpful_reviews_df.count()\n",
        "total_num_helpful_not_vine_reviews"
      ],
      "metadata": {
        "id": "KSE-ABXcwalV"
      },
      "execution_count": null,
      "outputs": []
    },
    {
      "cell_type": "code",
      "source": [
        "five_star_vine_reviews = vine_helpful_reviews_df.filter(\"star_rating=='5'\").count()\n",
        "five_star_vine_reviews"
      ],
      "metadata": {
        "id": "EtNiI0mPwccw"
      },
      "execution_count": null,
      "outputs": []
    },
    {
      "cell_type": "code",
      "source": [
        "five_star_not_vine_reviews = not_vine_helpful_reviews_df.filter(\"star_rating=='5'\").count()\n",
        "five_star_not_vine_reviews"
      ],
      "metadata": {
        "id": "aopdYA4Iweyp"
      },
      "execution_count": null,
      "outputs": []
    },
    {
      "cell_type": "code",
      "source": [
        "percent_five_star_vine_reviews = (five_star_vine_reviews/total_num_helpful_vine_reviews)*100\n",
        "percent_five_star_vine_reviews"
      ],
      "metadata": {
        "id": "kcjaF4rywgkb"
      },
      "execution_count": null,
      "outputs": []
    },
    {
      "cell_type": "code",
      "source": [
        "percent_five_star_not_vine_reviews = (five_star_not_vine_reviews/total_num_helpful_not_vine_reviews)*100\n",
        "percent_five_star_not_vine_reviews"
      ],
      "metadata": {
        "id": "YF1h4UVawitX"
      },
      "execution_count": null,
      "outputs": []
    }
  ]
}